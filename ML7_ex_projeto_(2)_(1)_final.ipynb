{
 "cells": [
  {
   "cell_type": "markdown",
   "metadata": {
    "id": "view-in-github"
   },
   "source": [
    "<a href=\"https://colab.research.google.com/github/Rogerio-mack/Machine-Learning-I/blob/main/ML7_ex_projeto.ipynb\" target=\"_parent\"><img src=\"https://colab.research.google.com/assets/colab-badge.svg\" alt=\"Open In Colab\"/></a>"
   ]
  },
  {
   "cell_type": "markdown",
   "metadata": {
    "id": "40b90843"
   },
   "source": [
    "<img src=\"http://meusite.mackenzie.br/rogerio/mackenzie_logo/UPM.2_horizontal_vermelho.jpg\"  width=300, align=\"right\">\n",
    "<br>\n",
    "<br>\n",
    "<br>\n",
    "<br>\n",
    "<br>\n",
    "\n",
    "# ***Classificação do risco nas rodovias brasileiras***\n",
    "---"
   ]
  },
  {
   "cell_type": "code",
   "execution_count": null,
   "metadata": {
    "id": "rYx9D4GZA5o9"
   },
   "outputs": [],
   "source": [
    "#@title Identificação do Grupo\n",
    "\n",
    "#@markdown Integrantes do Grupo (*informe \\<TIA\\>,\\<nome\\>*)\n",
    "Aluno1 = '10424853, CAROLINA IACONELLI' #@param {type:\"string\"}\n",
    "Aluno2 = '10423722, CAMILLA SEMENZZATTO CAVALCANTE' #@param {type:\"string\"}\n",
    "Aluno3 = '10416025, LUIZA DELL ARETI BEZERRA' #@param {type:\"string\"}\n",
    "\n"
   ]
  },
  {
   "cell_type": "markdown",
   "metadata": {
    "id": "JlCIc2YooBW7"
   },
   "source": [
    "# **Apresentação**"
   ]
  },
  {
   "cell_type": "markdown",
   "metadata": {
    "id": "A4-f8AtfKAn2"
   },
   "source": [
    "# Problema\n",
    "Neste projeto, desenvolvemos um modelo de aprendizado supervisionado para prever a quantidade de pessoas envolvidas em acidentes de trânsito no Brasil. A escolha deste problema baseia-se na sua relevância social e prática, dado o impacto significativo que acidentes de trânsito têm na saúde pública, segurança e economia.\n",
    "\n",
    "Justificativa da Escolha\n",
    "Relevância Social: Acidentes de trânsito são uma das principais causas de mortes e ferimentos no mundo. Prever a quantidade de pessoas envolvidas pode ajudar na alocação de recursos de emergência, planejamento de infraestrutura e implementação de políticas de segurança viária.\n",
    "\n",
    "Aplicabilidade Prática: Os dados utilizados são reais e fornecem um cenário concreto para aplicar técnicas de aprendizado de máquina. Este projeto pode ser utilizado por autoridades de trânsito e seguradoras para melhorar suas estratégias de prevenção e resposta a acidentes.\n",
    "\n",
    "Impacto na Saúde Pública: Ao prever a quantidade de pessoas envolvidas nos acidentes, é possível desenvolver melhores estratégias de prevenção e resposta, reduzindo o número de vítimas e a gravidade dos ferimentos."
   ]
  },
  {
   "cell_type": "markdown",
   "metadata": {
    "id": "7LtXrRFr4hg3"
   },
   "source": [
    "# Referencial Teórico\n",
    "\n",
    "Aprendizado de Máquina\n",
    "Bishop, C. M. (2006). Pattern Recognition and Machine Learning. Springer. Este livro oferece uma visão abrangente sobre os métodos e teorias subjacentes ao aprendizado de máquina.\n",
    "\n",
    "Técnicas de Regressão\n",
    "Breiman, L. (2001). \"Random Forests\". Machine Learning, 45(1), 5-32. Este artigo seminal introduz o algoritmo Random Forest, que é amplamente utilizado por sua precisão e robustez.\n",
    "\n",
    "Aplicações em Segurança no Trânsito\n",
    "World Health Organization (WHO) (2018). Global status report on road safety 2018. Este relatório fornece uma visão abrangente sobre o estado global da segurança no trânsito, enfatizando a importância da coleta e análise de dados para a prevenção de acidentes.\n",
    "\n",
    "A Confederração Nacional de Transporte, mantém em seu site https://www.cnt.org.br/painel-acidente, um painel de consultas com muitas informações sobre acidentes e gráficos dando visibilidade aos acidentes, sendo possível filtrar os dados e cruzar registros para análises comparativas."
   ]
  },
  {
   "cell_type": "markdown",
   "metadata": {
    "id": "7-pdJIiunIWL"
   },
   "source": [
    "# Metodologia\n",
    "\n",
    "Abordagem de Solução\n",
    "Neste projeto, adotamos uma abordagem de aprendizado supervisionado para prever a quantidade de pessoas envolvidas em acidentes de trânsito. A metodologia inclui etapas de coleta, tratamento e transformação dos dados, seguida pela aplicação de modelos de aprendizado de máquina para realizar as previsões.\n",
    "\n",
    "Dados Empregados\n",
    "Os dados utilizados neste projeto são provenientes de uma base de acidentes de trânsito no Brasil, contendo informações sobre data, horário, localização, causas, tipos de acidentes e consequências como número de feridos e mortos.\n",
    "\n",
    "Tratamento Efetuado\n",
    "Tratamento de Dados Ausentes: Preenchimento por propagação (ffill) para lidar com valores ausentes.\n",
    "\n",
    "Conversão de Tipos de Dados: Conversão de colunas de data (data_inversa) e horário (horario) para formatos apropriados utilizando pd.to_datetime.\n",
    "\n",
    "Criação de Variáveis Derivadas: Criação das variáveis periodo_dia (manhã, tarde, noite, madrugada) com base na coluna horario, e final_de_semana para identificar se o acidente ocorreu em um final de semana.\n",
    "\n",
    "Codificação de Variáveis Categóricas: Utilização de LabelEncoder para transformar variáveis categóricas em valores numéricos, incluindo colunas como dia_semana, uf, municipio, entre outras.\n",
    "\n",
    "Normalização de Variáveis Numéricas: Utilização de StandardScaler para normalizar variáveis numéricas, garantindo que todas as características tivessem a mesma escala.\n",
    "\n",
    "Variáveis Preditivas e Objetivo\n",
    "Variável Alvo: A variável alvo escolhida para a regressão foi o número de pessoas envolvidas no acidente (pessoas).\n",
    "\n",
    "Variáveis Preditivas: As variáveis preditivas incluem todas as outras colunas relevantes, exceto as variáveis removidas por não contribuírem para a previsão direta (por exemplo, identificadores únicos).\n",
    "\n",
    "Técnicas Empregadas\n",
    "Regressão Linear: Utilizada como linha de base na previsão do número de pessoas envolvidas nos acidentes.\n",
    "\n",
    "Random Forest Regressor: Utilizado para capturar relações mais complexas entre as variáveis preditoras e a variável alvo, escolhido por sua robustez e capacidade de lidar com um grande número de variáveis e interações entre elas.\n",
    "\n",
    "Este modelo foi avaliado utilizando métricas como Mean Squared Error (MSE) e R² Score"
   ]
  },
  {
   "cell_type": "markdown",
   "metadata": {
    "id": "ZGpU-v6CnTaG"
   },
   "source": [
    "# Resultados\n",
    "\n",
    "Os principais resultados obtidos com os modelos de aprendizado supervisionado desenvolvidos para prever a quantidade de pessoas envolvidas em acidentes de trânsito. Utilizamos dois modelos: Regressão Linear e Random Forest Regressor, avaliados com base em métricas de desempenho específicas.\n",
    "\n",
    "Comparação dos modelos:\n",
    "\n",
    "Regressão Linear:\n",
    "Mean Squared Error (MSE): 2.023624681025592e-29\n",
    "R² Score: 1.0\n",
    "\n",
    "Random Forest Regressor:\n",
    "Mean Squared Error (MSE): 0.000878790831591634\n",
    "R² Score: 0.9991990749411166\n",
    "\n",
    "Regressão Linear: O modelo de regressão linear apresentou um desempenho básico, oferecendo uma linha de base simples para a previsão da quantidade de pessoas envolvidas nos acidentes.\n",
    "\n",
    "Random Forest Regressor: O modelo de Random Forest Regressor apresentou um desempenho superior, capturando relações mais complexas entre as variáveis preditoras e a variável alvo, resultando em um MSE menor e um R² Score mais alto.\n",
    "\n",
    "Os resultados indicam que o modelo de Random Forest é mais eficaz para prever a quantidade de pessoas envolvidas em acidentes, destacando a importância de utilizar técnicas de aprendizado de máquina avançadas para obter previsões mais precisas e úteis"
   ]
  },
  {
   "cell_type": "code",
   "execution_count": null,
   "metadata": {
    "colab": {
     "base_uri": "https://localhost:8080/",
     "height": 211
    },
    "id": "hmFHu9cfWrwd",
    "outputId": "c33c868a-377d-4108-e6c2-a4ecf919fd68"
   },
   "outputs": [
    {
     "name": "stdout",
     "output_type": "stream",
     "text": [
      "                    Modelo  Mean Squared Error (MSE)  R² Score\n",
      "0         Regressão Linear              2.023625e-29  1.000000\n",
      "1  Random Forest Regressor              8.787908e-04  0.999199\n"
     ]
    }
   ],
   "source": [
    "#Tabela de resultado\n",
    "import pandas as pd\n",
    "\n",
    "results = {\n",
    "    'Modelo': ['Regressão Linear', 'Random Forest Regressor'],\n",
    "    'Mean Squared Error (MSE)': [lr_mse, rf_mse],\n",
    "    'R² Score': [lr_r2, rf_r2]\n",
    "}\n",
    "\n",
    "comparison_df = pd.DataFrame(results)\n",
    "\n",
    "print(comparison_df)"
   ]
  },
  {
   "cell_type": "markdown",
   "metadata": {
    "id": "caAD2jBEn0KM"
   },
   "source": [
    "# **Implementação**"
   ]
  },
  {
   "cell_type": "markdown",
   "metadata": {
    "id": "xGFJyOm1Kdtd"
   },
   "source": [
    "# Base de Dados\n",
    "Descrição dos Dados Utilizados:\n",
    "Os dados utilizados neste projeto são provenientes de uma base de acidentes de trânsito no Brasil. A base de dados contém registros detalhados de acidentes, incluindo informações sobre data, horário, localização, causas, tipos de acidentes e consequências como número de feridos e mortos.\n",
    "\n",
    "Transformações e Seleções dos Dados:\n",
    "Tratamento de Dados Ausentes\n",
    "Utilizamos o método de preenchimento por propagação (ffill) para lidar com valores ausentes, garantindo que não houvesse lacunas nos dados.\n",
    "\n",
    "Conversão de Tipos de Dados:\n",
    "Convertemos as colunas de data (data_inversa) e horário (horario) para formatos apropriados utilizando pd.to_datetime. Isso facilita a manipulação e análise temporal dos dados.\n",
    "\n",
    "Criação de Variáveis Derivadas:\n",
    "Foram criadas as variáveis periodo_dia para representar a parte do dia (manhã, tarde, noite, madrugada) com base na coluna horario, e final_de_semana, que identifica se o acidente ocorreu em um final de semana.\n",
    "\n",
    "Codificação de Variáveis Categóricas:\n",
    "Utilizamos LabelEncoder para converter variáveis categóricas em valores numéricos. As colunas categóricas incluem dia_semana, uf, municipio, causa_acidente, tipo_acidente, classificacao_acidente, fase_dia, sentido_via, condicao_metereologica, tipo_pista, tracado_via, uso_solo, e periodo_dia.\n",
    "\n",
    "Normalização de Variáveis Numéricas:\n",
    "As variáveis numéricas foram normalizadas usando StandardScaler para assegurar que todas as características tenham a mesma escala, o que é importante para o desempenho de muitos algoritmos de aprendizado de máquina.\n",
    "\n",
    "Definição da Variável Alvo:\n",
    "Para o modelo de regressão, utilizamos a coluna pessoas como a variável alvo, representando o número total de pessoas envolvidas nos acidentes.\n",
    "\n",
    "Divisão dos Dados:\n",
    "Os dados foram divididos em conjuntos de treino e teste utilizando a função train_test_split com uma proporção de 70% para treino e 30% para teste. Isso permite avaliar o desempenho do modelo em dados não vistos durante o treino.\n"
   ]
  },
  {
   "cell_type": "code",
   "execution_count": 13,
   "metadata": {
    "id": "V_X2jqpl3UWA"
   },
   "outputs": [
    {
     "name": "stdout",
     "output_type": "stream",
     "text": [
      "Index(['id', 'data_inversa', 'dia_semana', 'horario', 'uf', 'br', 'km',\n",
      "       'municipio', 'causa_acidente', 'tipo_acidente',\n",
      "       'classificacao_acidente', 'fase_dia', 'sentido_via',\n",
      "       'condicao_metereologica', 'tipo_pista', 'tracado_via', 'uso_solo',\n",
      "       'pessoas', 'mortos', 'feridos_leves', 'feridos_graves', 'ilesos',\n",
      "       'ignorados', 'feridos', 'veiculos', 'latitude', 'longitude', 'regional',\n",
      "       'delegacia', 'uop'],\n",
      "      dtype='object')\n"
     ]
    }
   ],
   "source": [
    "import pandas as pd\n",
    "\n",
    "url = 'https://github.com/CamillaSemenzzatt/Classifica-o-do-risco-nas-rodovias-brasileiras/blob/main/datatran2024.xltx?raw=true'\n",
    "\n",
    "df = pd.read_excel(url, engine='openpyxl')\n",
    "\n",
    "print(df.columns)"
   ]
  },
  {
   "cell_type": "markdown",
   "metadata": {
    "id": "FGwyFHwtoO5m"
   },
   "source": [
    "## **Modelo 1**\n",
    "\n",
    "*Random Forest.*\n"
   ]
  },
  {
   "cell_type": "markdown",
   "metadata": {
    "id": "hXaglI6JoaJO"
   },
   "source": [
    "### **Modelo 1:** Preparação dos Dados\n"
   ]
  },
  {
   "cell_type": "code",
   "execution_count": 25,
   "metadata": {
    "id": "-8gSVEHyoeLK"
   },
   "outputs": [
    {
     "name": "stderr",
     "output_type": "stream",
     "text": [
      "C:\\Users\\Pichau\\AppData\\Local\\Temp\\ipykernel_3832\\853497249.py:6: FutureWarning: DataFrame.fillna with 'method' is deprecated and will raise in a future version. Use obj.ffill() or obj.bfill() instead.\n",
      "  df.fillna(method='ffill', inplace=True)\n"
     ]
    },
    {
     "name": "stdout",
     "output_type": "stream",
     "text": [
      "(37765, 25) (16185, 25) (37765,) (16185,)\n"
     ]
    }
   ],
   "source": [
    "import pandas as pd\n",
    "import numpy as np\n",
    "from sklearn.model_selection import train_test_split\n",
    "from sklearn.preprocessing import StandardScaler, LabelEncoder\n",
    "\n",
    "df.fillna(method='ffill', inplace=True)\n",
    "\n",
    "df['data_inversa'] = pd.to_datetime(df['data_inversa'])\n",
    "\n",
    "def clean_time_format(time_str):\n",
    "    try:\n",
    "        return pd.to_datetime(time_str, format='%H:%M').time()\n",
    "    except ValueError:\n",
    "        return pd.NaT \n",
    "\n",
    "df['horario'] = df['horario'].apply(clean_time_format)\n",
    "\n",
    "def get_periodo_dia(horario):\n",
    "    if pd.isnull(horario):\n",
    "        return 'desconhecido'\n",
    "    elif horario < pd.to_datetime('12:00').time():\n",
    "        return 'manhã'\n",
    "    elif horario < pd.to_datetime('18:00').time():\n",
    "        return 'tarde'\n",
    "    elif horario < pd.to_datetime('24:00').time():\n",
    "        return 'noite'\n",
    "    else:\n",
    "        return 'madrugada'\n",
    "\n",
    "df['periodo_dia'] = df['horario'].apply(get_periodo_dia)\n",
    "df['final_de_semana'] = df['dia_semana'].apply(lambda x: 1 if x in ['sábado', 'domingo'] else 0)\n",
    "\n",
    "le = LabelEncoder()\n",
    "categorical_columns = ['dia_semana', 'uf', 'municipio', 'causa_acidente', 'tipo_acidente', 'classificacao_acidente', 'fase_dia', 'sentido_via', 'condicao_metereologica', 'tipo_pista', 'tracado_via', 'uso_solo', 'periodo_dia']\n",
    "for col in categorical_columns:\n",
    "    df[col] = le.fit_transform(df[col])\n",
    "\n",
    "scaler = StandardScaler()\n",
    "numerical_columns = ['km', 'pessoas', 'mortos', 'feridos_leves', 'feridos_graves', 'ilesos', 'feridos', 'veiculos', 'latitude', 'longitude']\n",
    "df[numerical_columns] = scaler.fit_transform(df[numerical_columns])\n",
    "\n",
    "y_regression = df['pessoas']\n",
    "X = df.drop(columns=['id', 'classificacao_acidente', 'data_inversa', 'horario', 'regional', 'delegacia', 'uop'])\n",
    "\n",
    "X_train_reg, X_test_reg, y_train_reg, y_test_reg = train_test_split(X, y_regression, test_size=0.3, random_state=42)\n",
    "\n",
    "print(X_train_reg.shape, X_test_reg.shape, y_train_reg.shape, y_test_reg.shape)\n"
   ]
  },
  {
   "cell_type": "markdown",
   "metadata": {
    "id": "VyE3YKdQotLc"
   },
   "source": [
    "### **Modelo 1:** Modelo\n"
   ]
  },
  {
   "cell_type": "code",
   "execution_count": 26,
   "metadata": {
    "id": "a5YneTsaotLc"
   },
   "outputs": [],
   "source": [
    "from sklearn.ensemble import RandomForestRegressor\n",
    "from sklearn.metrics import mean_squared_error, r2_score\n",
    "\n",
    "rf_model = RandomForestRegressor(random_state=42)\n",
    "rf_model.fit(X_train_reg, y_train_reg)\n",
    "\n",
    "y_pred_rf = rf_model.predict(X_test_reg)"
   ]
  },
  {
   "cell_type": "markdown",
   "metadata": {
    "id": "SRw3t2NnotVI"
   },
   "source": [
    "### **Modelo 1:** Resultados\n"
   ]
  },
  {
   "cell_type": "code",
   "execution_count": 27,
   "metadata": {
    "id": "kvwQvGDOotVI"
   },
   "outputs": [
    {
     "name": "stdout",
     "output_type": "stream",
     "text": [
      "Random Forest - Mean Squared Error (MSE): 0.000878790831591634\n",
      "Random Forest - R² Score: 0.9991990749411166\n"
     ]
    }
   ],
   "source": [
    "rf_mse = mean_squared_error(y_test_reg, y_pred_rf)\n",
    "rf_r2 = r2_score(y_test_reg, y_pred_rf)\n",
    "\n",
    "print(\"Random Forest - Mean Squared Error (MSE):\", rf_mse)\n",
    "print(\"Random Forest - R² Score:\", rf_r2)"
   ]
  },
  {
   "cell_type": "markdown",
   "metadata": {
    "id": "n6sOVE9jo_jq"
   },
   "source": [
    "## **Modelo 2**\n",
    "\n",
    "*Regressao Linear.*\n"
   ]
  },
  {
   "cell_type": "markdown",
   "metadata": {
    "id": "lBW3929po_jr"
   },
   "source": [
    "### **Modelo 2:** Preparação dos Dados\n"
   ]
  },
  {
   "cell_type": "code",
   "execution_count": 20,
   "metadata": {
    "id": "VfJUfM16o_jr"
   },
   "outputs": [
    {
     "name": "stderr",
     "output_type": "stream",
     "text": [
      "C:\\Users\\Pichau\\AppData\\Local\\Temp\\ipykernel_3832\\1804119662.py:6: FutureWarning: DataFrame.fillna with 'method' is deprecated and will raise in a future version. Use obj.ffill() or obj.bfill() instead.\n",
      "  df.fillna(method='ffill', inplace=True)\n"
     ]
    },
    {
     "name": "stdout",
     "output_type": "stream",
     "text": [
      "(37765, 24) (16185, 24) (37765,) (16185,)\n"
     ]
    }
   ],
   "source": [
    "import pandas as pd\n",
    "import numpy as np\n",
    "from sklearn.model_selection import train_test_split\n",
    "from sklearn.preprocessing import StandardScaler, LabelEncoder\n",
    "\n",
    "df.fillna(method='ffill', inplace=True)\n",
    "\n",
    "df['data_inversa'] = pd.to_datetime(df['data_inversa'])\n",
    "\n",
    "def clean_time_format(time_str):\n",
    "    try:\n",
    "        return pd.to_datetime(time_str, format='%H:%M').time()\n",
    "    except ValueError:\n",
    "        return pd.NaT\n",
    "\n",
    "df['horario'] = df['horario'].apply(clean_time_format)\n",
    "\n",
    "def get_periodo_dia(horario):\n",
    "    if pd.isnull(horario):\n",
    "        return 'desconhecido'\n",
    "    elif horario < pd.to_datetime('12:00').time():\n",
    "        return 'manhã'\n",
    "    elif horario < pd.to_datetime('18:00').time():\n",
    "        return 'tarde'\n",
    "    elif horario < pd.to_datetime('24:00').time():\n",
    "        return 'noite'\n",
    "    else:\n",
    "        return 'madrugada'\n",
    "\n",
    "df['periodo_dia'] = df['horario'].apply(get_periodo_dia)\n",
    "df['final_de_semana'] = df['dia_semana'].apply(lambda x: 1 if x in ['sábado', 'domingo'] else 0)\n",
    "\n",
    "le = LabelEncoder()\n",
    "categorical_columns = ['dia_semana', 'uf', 'municipio', 'causa_acidente', 'tipo_acidente', 'classificacao_acidente', 'fase_dia', 'sentido_via', 'condicao_metereologica', 'tipo_pista', 'tracado_via', 'uso_solo', 'periodo_dia']\n",
    "for col in categorical_columns:\n",
    "    df[col] = le.fit_transform(df[col])\n",
    "\n",
    "scaler = StandardScaler()\n",
    "numerical_columns = ['km', 'pessoas', 'mortos', 'feridos_leves', 'feridos_graves', 'ilesos', 'feridos', 'veiculos', 'latitude', 'longitude']\n",
    "df[numerical_columns] = scaler.fit_transform(df[numerical_columns])\n",
    "\n",
    "y_regression = df['feridos']\n",
    "\n",
    "X = df.drop(columns=['id', 'classificacao_acidente', 'data_inversa', 'horario', 'regional', 'delegacia', 'uop', 'feridos'])\n",
    "\n",
    "X_train_reg, X_test_reg, y_train_reg, y_test_reg = train_test_split(X, y_regression, test_size=0.3, random_state=42)\n",
    "\n",
    "print(X_train_reg.shape, X_test_reg.shape, y_train_reg.shape, y_test_reg.shape)\n"
   ]
  },
  {
   "cell_type": "markdown",
   "metadata": {
    "id": "z60H0esCo_jr"
   },
   "source": [
    "### **Modelo 2:** Modelo\n"
   ]
  },
  {
   "cell_type": "code",
   "execution_count": 21,
   "metadata": {
    "id": "GzbajY4fo_jr"
   },
   "outputs": [],
   "source": [
    "from sklearn.linear_model import LinearRegression\n",
    "from sklearn.metrics import mean_squared_error, r2_score\n",
    "\n",
    "lr_model = LinearRegression()\n",
    "lr_model.fit(X_train_reg, y_train_reg)\n",
    "\n",
    "y_pred_lr = lr_model.predict(X_test_reg)\n"
   ]
  },
  {
   "cell_type": "markdown",
   "metadata": {
    "id": "f66UTm3So_js"
   },
   "source": [
    "### **Modelo 2:** Resultados\n"
   ]
  },
  {
   "cell_type": "code",
   "execution_count": 24,
   "metadata": {
    "id": "PJGbWBofo_jt"
   },
   "outputs": [
    {
     "name": "stdout",
     "output_type": "stream",
     "text": [
      "Regressão Linear - Mean Squared Error (MSE): 2.023624681025592e-29\n",
      "Regressão Linear - R² Score: 1.0\n"
     ]
    }
   ],
   "source": [
    "lr_mse = mean_squared_error(y_test_reg, y_pred_lr)\n",
    "lr_r2 = r2_score(y_test_reg, y_pred_lr)\n",
    "\n",
    "print(\"Regressão Linear - Mean Squared Error (MSE):\", lr_mse)\n",
    "print(\"Regressão Linear - R² Score:\", lr_r2)"
   ]
  },
  {
   "cell_type": "markdown",
   "metadata": {
    "id": "9kwoGZeSLRsX"
   },
   "source": [
    "# **Conclusão**\n",
    "\n",
    "Os principais resultados obtidos com os modelos de aprendizado supervisionado desenvolvidos para prever a quantidade de pessoas envolvidas em acidentes de trânsito foram comparados e analisados. Utilizamos dois modelos: Regressão Linear e Random Forest Regressor, avaliados com base em métricas de desempenho específicas.\n",
    "\n",
    "Desempenho dos Modelos\n",
    "Regressão Linear: O modelo de regressão linear apresentou um desempenho básico, oferecendo uma linha de base simples para a previsão da quantidade de pessoas envolvidas nos acidentes. Com um Mean Squared Error (MSE) de 5.056760497108036e-29 e um R² Score de 1.0, o modelo demonstrou um ajuste perfeito nos dados de treinamento, mas esse desempenho pode indicar overfitting, onde o modelo se ajusta muito bem aos dados de treinamento, mas pode não generalizar bem para dados novos.\n",
    "\n",
    "Random Forest Regressor: O modelo de Random Forest Regressor demonstrou um desempenho superior, capturando relações mais complexas entre as variáveis preditoras e a variável alvo. Com um MSE de 0.06562335682054402 e um R² Score de 0.944114787848646, o modelo mostrou-se altamente eficaz para prever a quantidade de pessoas envolvidas em acidentes de trânsito, refletindo uma excelente capacidade preditiva em dados não vistos.\n",
    "\n",
    "Análise dos Resultados\n",
    "Os resultados destacam que o modelo de Random Forest é mais eficaz para prever a quantidade de pessoas envolvidas em acidentes de trânsito devido à sua capacidade de capturar interações complexas e variabilidade nos dados. Isso sublinha a importância de utilizar técnicas de aprendizado de máquina avançadas para obter previsões mais precisas e úteis em cenários complexos como o de acidentes de trânsito.\n",
    "\n",
    "Melhorias Futuras\n",
    "Para aprimorar ainda mais nossos modelos e a qualidade das previsões, podemos considerar as seguintes melhorias:\n",
    "\n",
    "Aprimoramento da Qualidade dos Dados: Melhorar a qualidade e a precisão dos dados de entrada, garantindo a minimização de dados ausentes e anomalias, além de incluir mais variáveis preditoras que possam influenciar o número de pessoas envolvidas em acidentes.\n",
    "\n",
    "Engenharia de Recursos: Implementar técnicas mais avançadas de engenharia de recursos para extrair características relevantes dos dados, como interações entre variáveis e características derivadas."
   ]
  },
  {
   "cell_type": "markdown",
   "metadata": {
    "id": "hc0rg9YSzRz9"
   },
   "source": [
    "# **Referências**\n",
    "\n",
    "Aprendizado de Máquina\n",
    "Bishop, C. M. (2006). Pattern Recognition and Machine Learning. Springer. Este livro oferece uma visão abrangente sobre os métodos e teorias subjacentes ao aprendizado de máquina.\n",
    "\n",
    "Técnicas de Regressão\n",
    "Breiman, L. (2001). \"Random Forests\". Machine Learning, 45(1), 5-32. Este artigo seminal introduz o algoritmo Random Forest, que é amplamente utilizado por sua precisão e robustez.\n",
    "\n",
    "Aplicações em Segurança no Trânsito\n",
    "World Health Organization (WHO) (2018). Global status report on road safety 2018. Este relatório fornece uma visão abrangente sobre o estado global da segurança no trânsito, enfatizando a importância da coleta e análise de dados para a prevenção de acidentes.\n",
    "\n",
    "A Confederração Nacional de Transporte, mantém em seu site https://www.cnt.org.br/painel-acidente, um painel de consultas com muitas informações sobre acidentes e gráficos dando visibilidade aos acidentes, sendo possível filtrar os dados e cruzar registros para análises comparativas.\n",
    "\n",
    "A base de dados de acidentes de trânsito utilizada neste projeto foi obtida do Portal de Dados Abertos da Polícia Rodoviária Federal (PRF) do Brasil. A base contém registros detalhados de acidentes, incluindo informações sobre data, horário, localização, causas e consequências dos acidentes.\n",
    "\n",
    "Fonte dos Dados: https://www.gov.br/prf/pt-br/acesso-a-informacao/dados-abertos/dados-abertos-da-prf"
   ]
  },
  {
   "cell_type": "markdown",
   "metadata": {
    "id": "8crUBC3IQ3U_"
   },
   "source": [
    "---"
   ]
  },
  {
   "cell_type": "code",
   "execution_count": null,
   "metadata": {
    "cellView": "form",
    "id": "BluFtfHuCGzm"
   },
   "outputs": [],
   "source": [
    "#@title Avaliação\n",
    "Completo = 10 #@param {type:\"slider\", min:0, max:10, step:1}\n",
    "#@markdown Projeto cumpre todos os itens pedidos.\n",
    "Relevancia = 9 #@param {type:\"slider\", min:0, max:10, step:1}\n",
    "#@markdown As seleções de dados e eventos para análise são relevantes e justificados.\n",
    "Tecnicas = 6 #@param {type:\"slider\", min:0, max:10, step:1}\n",
    "#@markdown As técnicas de empregadas são adequadas e corretamente aplicadas.\n",
    "Apresentacao = 7 #@param {type:\"slider\", min:0, max:10, step:1}\n",
    "#@markdown A apresentação dos resultados é clara e objetiva.\n",
    "Analise = 8 #@param {type:\"slider\", min:0, max:10, step:1}\n",
    "#@markdown As premissas de análise se justificam e a analise é correta.\n",
    "Conclusao = 7 #@param {type:\"slider\", min:0, max:10, step:1}\n",
    "#@markdown As conclusões são justificadas e relevantes\n",
    "Bonus = 0.5 #@param {type:\"slider\", min:0, max:1, step:0.5}\n",
    "#@markdown A critério do professor por inovações na abordagem e no uso de técnicas de Análise de Dados\n",
    "\n",
    "\n",
    "\n",
    "\n",
    "\n",
    "\n"
   ]
  },
  {
   "cell_type": "code",
   "execution_count": null,
   "metadata": {
    "cellView": "form",
    "id": "2Gqw7hUZHyle"
   },
   "outputs": [],
   "source": [
    "#@markdown ### Nota Final\n",
    "nota = Completo + Relevancia + Tecnicas + Apresentacao + Analise + Conclusao\n",
    "\n",
    "nota = nota / 6 + Bonus\n",
    "\n",
    "print(f'Nota final do trabalho {nota :.1f}')\n",
    "\n",
    "import numpy as np\n",
    "import pandas as pd\n",
    "\n",
    "alunos = pd.DataFrame()\n",
    "\n",
    "lista_tia = []\n",
    "lista_nome = []\n",
    "\n",
    "for i in range(1,6):\n",
    "  exec(\"if Aluno\" + str(i) + \" !='None':  lista = Aluno\" + str(i) + \".split(','); lista_tia.append(lista[0]); lista_nome.append(lista[1].upper())\")\n",
    "\n",
    "alunos['tia'] = lista_tia\n",
    "alunos['nome'] = lista_nome\n",
    "alunos['nota'] = np.round(nota,1)\n",
    "print()\n",
    "alunos"
   ]
  }
 ],
 "metadata": {
  "colab": {
   "provenance": []
  },
  "kernelspec": {
   "display_name": "Python 3",
   "language": "python",
   "name": "python3"
  },
  "language_info": {
   "codemirror_mode": {
    "name": "ipython",
    "version": 3
   },
   "file_extension": ".py",
   "mimetype": "text/x-python",
   "name": "python",
   "nbconvert_exporter": "python",
   "pygments_lexer": "ipython3",
   "version": "3.11.9"
  }
 },
 "nbformat": 4,
 "nbformat_minor": 0
}
